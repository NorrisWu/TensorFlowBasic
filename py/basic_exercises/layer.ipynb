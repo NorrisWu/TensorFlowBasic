{
 "cells": [
  {
   "cell_type": "code",
   "execution_count": 1,
   "metadata": {},
   "outputs": [
    {
     "name": "stderr",
     "output_type": "stream",
     "text": [
      "c:\\users\\norman\\appdata\\local\\programs\\python\\python36\\lib\\site-packages\\h5py\\__init__.py:36: FutureWarning: Conversion of the second argument of issubdtype from `float` to `np.floating` is deprecated. In future, it will be treated as `np.float64 == np.dtype(float).type`.\n",
      "  from ._conv import register_converters as _register_converters\n"
     ]
    },
    {
     "name": "stdout",
     "output_type": "stream",
     "text": [
      "[[5. 7.]]\n"
     ]
    }
   ],
   "source": [
    "\"\"\"\n",
    "  Task: to implment layer y = relu(x W + b).\n",
    "\"\"\"\n",
    "import tensorflow as tf   # Import tensorflow library.\n",
    "\n",
    "# Variable(<initial_value>, dtype=<tf.float32|tf.int32|...>)\n",
    "W = tf.Variable([[1.0, 2.0], [3.0, 4.0]], dtype=tf.float32, name='weight')\n",
    "x = tf.placeholder(tf.float32, shape=[None, 2])\n",
    "b = tf.Variable([1.0, 1.0], dtype=tf.float32, name='bias')\n",
    "\n",
    "# Matrix multiply and add bias.\n",
    "y = tf.nn.bias_add(tf.matmul(x, W), b)\n",
    "y = tf.nn.relu(y)\n",
    "\n",
    "with tf.Session() as sess:\n",
    "    # Initialize all variables.\n",
    "    sess.run(tf.global_variables_initializer())  \n",
    "\n",
    "    # Givne x, batch of a single example\n",
    "    #  [[1.0, 1.0]]\n",
    "    # M: \n",
    "    #   [1.0, 2.0]\n",
    "    #   [3.0, 4.0]\n",
    "    # b:\n",
    "    #   [1.0, 1.0]\n",
    "    print(sess.run(y, feed_dict={x: [[1.0, 1.0]]}))    # <- Expect: [[5.0, 7.0]]\n"
   ]
  },
  {
   "cell_type": "code",
   "execution_count": null,
   "metadata": {},
   "outputs": [],
   "source": []
  }
 ],
 "metadata": {
  "kernelspec": {
   "display_name": "Python 3",
   "language": "python",
   "name": "python3"
  },
  "language_info": {
   "codemirror_mode": {
    "name": "ipython",
    "version": 3
   },
   "file_extension": ".py",
   "mimetype": "text/x-python",
   "name": "python",
   "nbconvert_exporter": "python",
   "pygments_lexer": "ipython3",
   "version": "3.6.5"
  }
 },
 "nbformat": 4,
 "nbformat_minor": 2
}
